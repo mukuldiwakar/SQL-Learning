{
 "cells": [
  {
   "cell_type": "code",
   "execution_count": 1,
   "id": "4c984fa8-00c5-4621-829c-915f33709b02",
   "metadata": {
    "tags": []
   },
   "outputs": [],
   "source": [
    "import mysql.connector"
   ]
  },
  {
   "cell_type": "code",
   "execution_count": 2,
   "id": "18308f4b-9bbc-4eb4-b4d1-a53ee91f603c",
   "metadata": {},
   "outputs": [],
   "source": [
    "%load_ext sql"
   ]
  },
  {
   "cell_type": "markdown",
   "id": "a749dcd4-c476-470e-965c-5d17fa0c8120",
   "metadata": {},
   "source": [
    "# Creating table 1 for joins "
   ]
  },
  {
   "cell_type": "code",
   "execution_count": 3,
   "id": "0402fd38-fa94-43a2-9b40-62aad5ba3d22",
   "metadata": {
    "tags": []
   },
   "outputs": [
    {
     "name": "stdout",
     "output_type": "stream",
     "text": [
      "Table1 created successfully cus\n"
     ]
    }
   ],
   "source": [
    "conn=mysql.connector.connect(host='localhost',user='root',password='redhat',database='mydb')\n",
    "\n",
    "cursor = conn.cursor()\n",
    "\n",
    "create_table1_query = \"\"\"\n",
    "CREATE TABLE cus (\n",
    "    Cus_id int,\n",
    "    Name varchar(100),\n",
    "    Age int,\n",
    "    Address varchar(100),\n",
    "    purchase_id int\n",
    ");\n",
    "\"\"\"\n",
    "\n",
    "cursor.execute(create_table1_query)\n",
    "\n",
    "conn.commit()\n",
    "\n",
    "cursor.close()\n",
    "conn.close()\n",
    "print('Table1 created successfully cus')"
   ]
  },
  {
   "cell_type": "code",
   "execution_count": 4,
   "id": "53739a39-d208-4e2a-9b8c-3a493584be5d",
   "metadata": {
    "tags": []
   },
   "outputs": [
    {
     "name": "stdout",
     "output_type": "stream",
     "text": [
      "Values inserted successfully in cus\n"
     ]
    }
   ],
   "source": [
    "conn=mysql.connector.connect(host='localhost',user='root',password='redhat',database='mydb')\n",
    "\n",
    "cursor = conn.cursor()\n",
    "values1 ='''insert into cus values \n",
    "(1, 'Rajesh Sharma', 32, 'Mumbai, India',103),\n",
    "(2, 'Sneha Kapoor', 28, 'Delhi, India',102),\n",
    "(3, 'Amit Singh', 35, 'Bangalore, India',104),\n",
    "(4, 'Priya Patel', null, 'Kolkata, India',101),\n",
    "(5, 'Neha Verma', 29, 'Chennai, India',105),\n",
    "(6, null, 38, 'Hyderabad, India',101),\n",
    "(7, 'Pooja Reddy', 24, 'Pune, India',null),\n",
    "(8, 'Arun Kumar', 31, 'Jaipur, India',null);'''\n",
    "\n",
    "cursor.execute(values1)\n",
    "\n",
    "conn.commit()\n",
    "\n",
    "cursor.close()\n",
    "conn.close()\n",
    "print('Values inserted successfully in cus')"
   ]
  },
  {
   "cell_type": "markdown",
   "id": "85b29f18-569f-446e-be66-a4096e35c1d9",
   "metadata": {},
   "source": [
    "# Creating table 2 for joins "
   ]
  },
  {
   "cell_type": "code",
   "execution_count": 5,
   "id": "8661da8c-3dc2-4df9-a310-05d4d44440c7",
   "metadata": {
    "tags": []
   },
   "outputs": [
    {
     "name": "stdout",
     "output_type": "stream",
     "text": [
      "Table2 created successfully  product\n"
     ]
    }
   ],
   "source": [
    "conn=mysql.connector.connect(host='localhost',user='root',password='redhat',database='mydb')\n",
    "\n",
    "cursor = conn.cursor()\n",
    "\n",
    "create_table2_query = \"\"\"\n",
    "CREATE TABLE pro (\n",
    "    Pro_ID int,\n",
    "    ProductName VARCHAR(100),\n",
    "    Price int,\n",
    "    Status varchar(100)\n",
    ");\n",
    "\"\"\"\n",
    "\n",
    "cursor.execute(create_table2_query)\n",
    "\n",
    "conn.commit()\n",
    "\n",
    "cursor.close()\n",
    "conn.close()\n",
    "print('Table2 created successfully  product')"
   ]
  },
  {
   "cell_type": "code",
   "execution_count": 6,
   "id": "6caaacd3-6ff1-4af3-9bf3-d9c56110d2d3",
   "metadata": {
    "tags": []
   },
   "outputs": [
    {
     "name": "stdout",
     "output_type": "stream",
     "text": [
      "Values inserted successfully in pro\n"
     ]
    }
   ],
   "source": [
    "conn=mysql.connector.connect(host='localhost',user='root',password='redhat',database='mydb')\n",
    "\n",
    "cursor = conn.cursor()\n",
    "values2 ='''insert into pro values \n",
    "(101, 'Laptop', 999, 'In Stock'),\n",
    "(102, 'Smartphone', 499, 'Out of Stock'),\n",
    "(103, 'Headphones', 79, 'In Stock'),\n",
    "(104, 'Tablet', 349, 'In Stock'),\n",
    "(105, 'Desktop Computer', 1199, 'In Stock'),\n",
    "(106, 'Wireless Mouse', 29, 'In Stock');'''\n",
    "\n",
    "cursor.execute(values2)\n",
    "\n",
    "conn.commit()\n",
    "\n",
    "cursor.close()\n",
    "conn.close()\n",
    "print('Values inserted successfully in pro')"
   ]
  },
  {
   "cell_type": "raw",
   "id": "cebc8685-4aba-4976-856a-4ec41cea9cf6",
   "metadata": {},
   "source": [
    "-- -------------------------------------------------------------------------|\n",
    "-- Cus                                     |   Pro                          |\n",
    "-- -------------------------------------------------------------------------|    \n",
    "-- Cus_id                                  |   Pro_ID                       |\n",
    "-- Name\t\t\t\t\t\t\t\t       |   ProductName                  |\n",
    "-- Age \t\t\t\t\t\t\t\t\t   |   Price                        |\n",
    "-- Address                                 |   Status                       |                             \n",
    "-- purchase_id\t\t\t\t\t\t\t   |                                |\n",
    "--  ------------------------------------------------------------------------| "
   ]
  }
 ],
 "metadata": {
  "kernelspec": {
   "display_name": "Python 3 (ipykernel)",
   "language": "python",
   "name": "python3"
  },
  "language_info": {
   "codemirror_mode": {
    "name": "ipython",
    "version": 3
   },
   "file_extension": ".py",
   "mimetype": "text/x-python",
   "name": "python",
   "nbconvert_exporter": "python",
   "pygments_lexer": "ipython3",
   "version": "3.11.3"
  }
 },
 "nbformat": 4,
 "nbformat_minor": 5
}
